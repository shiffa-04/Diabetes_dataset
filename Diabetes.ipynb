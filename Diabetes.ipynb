{
 "cells": [
  {
   "cell_type": "code",
   "execution_count": 2,
   "id": "259c8587-a970-47dd-994c-bf884c9bd9db",
   "metadata": {},
   "outputs": [
    {
     "data": {
      "text/html": [
       "<div>\n",
       "<style scoped>\n",
       "    .dataframe tbody tr th:only-of-type {\n",
       "        vertical-align: middle;\n",
       "    }\n",
       "\n",
       "    .dataframe tbody tr th {\n",
       "        vertical-align: top;\n",
       "    }\n",
       "\n",
       "    .dataframe thead th {\n",
       "        text-align: right;\n",
       "    }\n",
       "</style>\n",
       "<table border=\"1\" class=\"dataframe\">\n",
       "  <thead>\n",
       "    <tr style=\"text-align: right;\">\n",
       "      <th></th>\n",
       "      <th>Pregnancies</th>\n",
       "      <th>Glucose</th>\n",
       "      <th>BloodPressure</th>\n",
       "      <th>SkinThickness</th>\n",
       "      <th>Insulin</th>\n",
       "      <th>BMI</th>\n",
       "      <th>DiabetesPedigreeFunction</th>\n",
       "      <th>Age</th>\n",
       "      <th>Outcome</th>\n",
       "    </tr>\n",
       "  </thead>\n",
       "  <tbody>\n",
       "    <tr>\n",
       "      <th>0</th>\n",
       "      <td>6</td>\n",
       "      <td>148</td>\n",
       "      <td>72</td>\n",
       "      <td>35</td>\n",
       "      <td>0</td>\n",
       "      <td>33.6</td>\n",
       "      <td>0.627</td>\n",
       "      <td>50</td>\n",
       "      <td>1</td>\n",
       "    </tr>\n",
       "    <tr>\n",
       "      <th>1</th>\n",
       "      <td>1</td>\n",
       "      <td>85</td>\n",
       "      <td>66</td>\n",
       "      <td>29</td>\n",
       "      <td>0</td>\n",
       "      <td>26.6</td>\n",
       "      <td>0.351</td>\n",
       "      <td>31</td>\n",
       "      <td>0</td>\n",
       "    </tr>\n",
       "    <tr>\n",
       "      <th>2</th>\n",
       "      <td>8</td>\n",
       "      <td>183</td>\n",
       "      <td>64</td>\n",
       "      <td>0</td>\n",
       "      <td>0</td>\n",
       "      <td>23.3</td>\n",
       "      <td>0.672</td>\n",
       "      <td>32</td>\n",
       "      <td>1</td>\n",
       "    </tr>\n",
       "    <tr>\n",
       "      <th>3</th>\n",
       "      <td>1</td>\n",
       "      <td>89</td>\n",
       "      <td>66</td>\n",
       "      <td>23</td>\n",
       "      <td>94</td>\n",
       "      <td>28.1</td>\n",
       "      <td>0.167</td>\n",
       "      <td>21</td>\n",
       "      <td>0</td>\n",
       "    </tr>\n",
       "    <tr>\n",
       "      <th>4</th>\n",
       "      <td>0</td>\n",
       "      <td>137</td>\n",
       "      <td>40</td>\n",
       "      <td>35</td>\n",
       "      <td>168</td>\n",
       "      <td>43.1</td>\n",
       "      <td>2.288</td>\n",
       "      <td>33</td>\n",
       "      <td>1</td>\n",
       "    </tr>\n",
       "    <tr>\n",
       "      <th>...</th>\n",
       "      <td>...</td>\n",
       "      <td>...</td>\n",
       "      <td>...</td>\n",
       "      <td>...</td>\n",
       "      <td>...</td>\n",
       "      <td>...</td>\n",
       "      <td>...</td>\n",
       "      <td>...</td>\n",
       "      <td>...</td>\n",
       "    </tr>\n",
       "    <tr>\n",
       "      <th>763</th>\n",
       "      <td>10</td>\n",
       "      <td>101</td>\n",
       "      <td>76</td>\n",
       "      <td>48</td>\n",
       "      <td>180</td>\n",
       "      <td>32.9</td>\n",
       "      <td>0.171</td>\n",
       "      <td>63</td>\n",
       "      <td>0</td>\n",
       "    </tr>\n",
       "    <tr>\n",
       "      <th>764</th>\n",
       "      <td>2</td>\n",
       "      <td>122</td>\n",
       "      <td>70</td>\n",
       "      <td>27</td>\n",
       "      <td>0</td>\n",
       "      <td>36.8</td>\n",
       "      <td>0.340</td>\n",
       "      <td>27</td>\n",
       "      <td>0</td>\n",
       "    </tr>\n",
       "    <tr>\n",
       "      <th>765</th>\n",
       "      <td>5</td>\n",
       "      <td>121</td>\n",
       "      <td>72</td>\n",
       "      <td>23</td>\n",
       "      <td>112</td>\n",
       "      <td>26.2</td>\n",
       "      <td>0.245</td>\n",
       "      <td>30</td>\n",
       "      <td>0</td>\n",
       "    </tr>\n",
       "    <tr>\n",
       "      <th>766</th>\n",
       "      <td>1</td>\n",
       "      <td>126</td>\n",
       "      <td>60</td>\n",
       "      <td>0</td>\n",
       "      <td>0</td>\n",
       "      <td>30.1</td>\n",
       "      <td>0.349</td>\n",
       "      <td>47</td>\n",
       "      <td>1</td>\n",
       "    </tr>\n",
       "    <tr>\n",
       "      <th>767</th>\n",
       "      <td>1</td>\n",
       "      <td>93</td>\n",
       "      <td>70</td>\n",
       "      <td>31</td>\n",
       "      <td>0</td>\n",
       "      <td>30.4</td>\n",
       "      <td>0.315</td>\n",
       "      <td>23</td>\n",
       "      <td>0</td>\n",
       "    </tr>\n",
       "  </tbody>\n",
       "</table>\n",
       "<p>768 rows × 9 columns</p>\n",
       "</div>"
      ],
      "text/plain": [
       "     Pregnancies  Glucose  BloodPressure  SkinThickness  Insulin   BMI  \\\n",
       "0              6      148             72             35        0  33.6   \n",
       "1              1       85             66             29        0  26.6   \n",
       "2              8      183             64              0        0  23.3   \n",
       "3              1       89             66             23       94  28.1   \n",
       "4              0      137             40             35      168  43.1   \n",
       "..           ...      ...            ...            ...      ...   ...   \n",
       "763           10      101             76             48      180  32.9   \n",
       "764            2      122             70             27        0  36.8   \n",
       "765            5      121             72             23      112  26.2   \n",
       "766            1      126             60              0        0  30.1   \n",
       "767            1       93             70             31        0  30.4   \n",
       "\n",
       "     DiabetesPedigreeFunction  Age  Outcome  \n",
       "0                       0.627   50        1  \n",
       "1                       0.351   31        0  \n",
       "2                       0.672   32        1  \n",
       "3                       0.167   21        0  \n",
       "4                       2.288   33        1  \n",
       "..                        ...  ...      ...  \n",
       "763                     0.171   63        0  \n",
       "764                     0.340   27        0  \n",
       "765                     0.245   30        0  \n",
       "766                     0.349   47        1  \n",
       "767                     0.315   23        0  \n",
       "\n",
       "[768 rows x 9 columns]"
      ]
     },
     "execution_count": 2,
     "metadata": {},
     "output_type": "execute_result"
    }
   ],
   "source": [
    "import pandas as pd\n",
    "df = pd.read_csv(\"diabetes.csv\")\n",
    "df"
   ]
  },
  {
   "cell_type": "code",
   "execution_count": 3,
   "id": "0ee7b19f-d5f2-43b0-9f00-18bc54d9562a",
   "metadata": {},
   "outputs": [
    {
     "data": {
      "text/plain": [
       "(768, 9)"
      ]
     },
     "execution_count": 3,
     "metadata": {},
     "output_type": "execute_result"
    }
   ],
   "source": [
    "shape = df.shape\n",
    "shape\n"
   ]
  },
  {
   "cell_type": "code",
   "execution_count": 4,
   "id": "6bc15b7f-c243-4a89-a219-59b3c2309fc7",
   "metadata": {},
   "outputs": [
    {
     "name": "stdout",
     "output_type": "stream",
     "text": [
      "268 500\n"
     ]
    }
   ],
   "source": [
    "diabetic =(df['Outcome']==1).sum()\n",
    "non_diabetic = (df['Outcome']==0).sum()\n",
    "print(diabetic, non_diabetic)\n"
   ]
  },
  {
   "cell_type": "code",
   "execution_count": 5,
   "id": "d9fbec62-74fa-40e5-adc7-aa1102987281",
   "metadata": {},
   "outputs": [
    {
     "data": {
      "image/png": "[encoded data removed]",
      "text/plain": [
       "<Figure size 640x480 with 1 Axes>"
      ]
     },
     "metadata": {},
     "output_type": "display_data"
    }
   ],
   "source": [
    "import matplotlib.pyplot as plt\n",
    "shades=['salmon','mistyrose']\n",
    "data ={\n",
    "    'Diabetic' :diabetic,\n",
    "    'Non diabetic' :non_diabetic\n",
    "}\n",
    "plt.pie(data.values(), labels=data.keys(),colors=shades,shadow=True, autopct='%2.1f%%')\n",
    "plt.show()\n"
   ]
  },
  {
   "cell_type": "code",
   "execution_count": 6,
   "id": "eb4f1909-785b-4cd8-b657-2560992e5615",
   "metadata": {},
   "outputs": [
    {
     "data": {
      "text/html": [
       "<style type=\"text/css\">\n",
       "#T_40bc8_row0_col0 {\n",
       "  background-color: #ffea99;\n",
       "  color: #000000;\n",
       "}\n",
       "#T_40bc8_row0_col1 {\n",
       "  background-color: #ffeb9c;\n",
       "  color: #000000;\n",
       "}\n",
       "#T_40bc8_row0_col2 {\n",
       "  background-color: #ffea9b;\n",
       "  color: #000000;\n",
       "}\n",
       "#T_40bc8_row1_col0 {\n",
       "  background-color: #fedf83;\n",
       "  color: #000000;\n",
       "}\n",
       "#T_40bc8_row1_col1 {\n",
       "  background-color: #fff0a8;\n",
       "  color: #000000;\n",
       "}\n",
       "#T_40bc8_row1_col2 {\n",
       "  background-color: #ffe590;\n",
       "  color: #000000;\n",
       "}\n",
       "#T_40bc8_row2_col0 {\n",
       "  background-color: #ffe691;\n",
       "  color: #000000;\n",
       "}\n",
       "#T_40bc8_row2_col1, #T_40bc8_row6_col0 {\n",
       "  background-color: #fff5b5;\n",
       "  color: #000000;\n",
       "}\n",
       "#T_40bc8_row2_col2 {\n",
       "  background-color: #ffec9d;\n",
       "  color: #000000;\n",
       "}\n",
       "#T_40bc8_row3_col0, #T_40bc8_row3_col1, #T_40bc8_row3_col2 {\n",
       "  background-color: #fff1ab;\n",
       "  color: #000000;\n",
       "}\n",
       "#T_40bc8_row4_col0, #T_40bc8_row7_col1 {\n",
       "  background-color: #fff2ac;\n",
       "  color: #000000;\n",
       "}\n",
       "#T_40bc8_row4_col1 {\n",
       "  background-color: #fff3af;\n",
       "  color: #000000;\n",
       "}\n",
       "#T_40bc8_row4_col2 {\n",
       "  background-color: #fff3ae;\n",
       "  color: #000000;\n",
       "}\n",
       "#T_40bc8_row5_col0, #T_40bc8_row5_col2 {\n",
       "  background-color: #fff5b3;\n",
       "  color: #000000;\n",
       "}\n",
       "#T_40bc8_row5_col1 {\n",
       "  background-color: #fff4b2;\n",
       "  color: #000000;\n",
       "}\n",
       "#T_40bc8_row6_col1, #T_40bc8_row7_col2 {\n",
       "  background-color: #fff7b9;\n",
       "  color: #000000;\n",
       "}\n",
       "#T_40bc8_row6_col2, #T_40bc8_row9_col1 {\n",
       "  background-color: #fff6b6;\n",
       "  color: #000000;\n",
       "}\n",
       "#T_40bc8_row7_col0 {\n",
       "  background-color: #fff9be;\n",
       "  color: #000000;\n",
       "}\n",
       "#T_40bc8_row8_col0, #T_40bc8_row10_col1 {\n",
       "  background-color: #fffac1;\n",
       "  color: #000000;\n",
       "}\n",
       "#T_40bc8_row8_col1 {\n",
       "  background-color: #fff4b0;\n",
       "  color: #000000;\n",
       "}\n",
       "#T_40bc8_row8_col2 {\n",
       "  background-color: #fff8bb;\n",
       "  color: #000000;\n",
       "}\n",
       "#T_40bc8_row9_col0, #T_40bc8_row11_col1 {\n",
       "  background-color: #fffcc5;\n",
       "  color: #000000;\n",
       "}\n",
       "#T_40bc8_row9_col2 {\n",
       "  background-color: #fffac0;\n",
       "  color: #000000;\n",
       "}\n",
       "#T_40bc8_row10_col0, #T_40bc8_row10_col2 {\n",
       "  background-color: #fffbc2;\n",
       "  color: #000000;\n",
       "}\n",
       "#T_40bc8_row11_col0, #T_40bc8_row12_col0, #T_40bc8_row12_col1, #T_40bc8_row12_col2, #T_40bc8_row13_col0 {\n",
       "  background-color: #fffec9;\n",
       "  color: #000000;\n",
       "}\n",
       "#T_40bc8_row11_col2, #T_40bc8_row13_col1, #T_40bc8_row13_col2 {\n",
       "  background-color: #fffdc8;\n",
       "  color: #000000;\n",
       "}\n",
       "#T_40bc8_row14_col0, #T_40bc8_row14_col1, #T_40bc8_row14_col2, #T_40bc8_row15_col0, #T_40bc8_row15_col1, #T_40bc8_row15_col2, #T_40bc8_row16_col0, #T_40bc8_row16_col1, #T_40bc8_row16_col2 {\n",
       "  background-color: #ffffcc;\n",
       "  color: #000000;\n",
       "}\n",
       "#T_40bc8_row17_col0, #T_40bc8_row17_col1, #T_40bc8_row17_col2 {\n",
       "  background-color: #800026;\n",
       "  color: #f1f1f1;\n",
       "}\n",
       "</style>\n",
       "<table id=\"T_40bc8\">\n",
       "  <thead>\n",
       "    <tr>\n",
       "      <th class=\"index_name level0\" >Outcome</th>\n",
       "      <th id=\"T_40bc8_level0_col0\" class=\"col_heading level0 col0\" >0</th>\n",
       "      <th id=\"T_40bc8_level0_col1\" class=\"col_heading level0 col1\" >1</th>\n",
       "      <th id=\"T_40bc8_level0_col2\" class=\"col_heading level0 col2\" >All</th>\n",
       "    </tr>\n",
       "    <tr>\n",
       "      <th class=\"index_name level0\" >Pregnancies</th>\n",
       "      <th class=\"blank col0\" >&nbsp;</th>\n",
       "      <th class=\"blank col1\" >&nbsp;</th>\n",
       "      <th class=\"blank col2\" >&nbsp;</th>\n",
       "    </tr>\n",
       "  </thead>\n",
       "  <tbody>\n",
       "    <tr>\n",
       "      <th id=\"T_40bc8_level0_row0\" class=\"row_heading level0 row0\" >0</th>\n",
       "      <td id=\"T_40bc8_row0_col0\" class=\"data row0 col0\" >73</td>\n",
       "      <td id=\"T_40bc8_row0_col1\" class=\"data row0 col1\" >38</td>\n",
       "      <td id=\"T_40bc8_row0_col2\" class=\"data row0 col2\" >111</td>\n",
       "    </tr>\n",
       "    <tr>\n",
       "      <th id=\"T_40bc8_level0_row1\" class=\"row_heading level0 row1\" >1</th>\n",
       "      <td id=\"T_40bc8_row1_col0\" class=\"data row1 col0\" >106</td>\n",
       "      <td id=\"T_40bc8_row1_col1\" class=\"data row1 col1\" >29</td>\n",
       "      <td id=\"T_40bc8_row1_col2\" class=\"data row1 col2\" >135</td>\n",
       "    </tr>\n",
       "    <tr>\n",
       "      <th id=\"T_40bc8_level0_row2\" class=\"row_heading level0 row2\" >2</th>\n",
       "      <td id=\"T_40bc8_row2_col0\" class=\"data row2 col0\" >84</td>\n",
       "      <td id=\"T_40bc8_row2_col1\" class=\"data row2 col1\" >19</td>\n",
       "      <td id=\"T_40bc8_row2_col2\" class=\"data row2 col2\" >103</td>\n",
       "    </tr>\n",
       "    <tr>\n",
       "      <th id=\"T_40bc8_level0_row3\" class=\"row_heading level0 row3\" >3</th>\n",
       "      <td id=\"T_40bc8_row3_col0\" class=\"data row3 col0\" >48</td>\n",
       "      <td id=\"T_40bc8_row3_col1\" class=\"data row3 col1\" >27</td>\n",
       "      <td id=\"T_40bc8_row3_col2\" class=\"data row3 col2\" >75</td>\n",
       "    </tr>\n",
       "    <tr>\n",
       "      <th id=\"T_40bc8_level0_row4\" class=\"row_heading level0 row4\" >4</th>\n",
       "      <td id=\"T_40bc8_row4_col0\" class=\"data row4 col0\" >45</td>\n",
       "      <td id=\"T_40bc8_row4_col1\" class=\"data row4 col1\" >23</td>\n",
       "      <td id=\"T_40bc8_row4_col2\" class=\"data row4 col2\" >68</td>\n",
       "    </tr>\n",
       "    <tr>\n",
       "      <th id=\"T_40bc8_level0_row5\" class=\"row_heading level0 row5\" >5</th>\n",
       "      <td id=\"T_40bc8_row5_col0\" class=\"data row5 col0\" >36</td>\n",
       "      <td id=\"T_40bc8_row5_col1\" class=\"data row5 col1\" >21</td>\n",
       "      <td id=\"T_40bc8_row5_col2\" class=\"data row5 col2\" >57</td>\n",
       "    </tr>\n",
       "    <tr>\n",
       "      <th id=\"T_40bc8_level0_row6\" class=\"row_heading level0 row6\" >6</th>\n",
       "      <td id=\"T_40bc8_row6_col0\" class=\"data row6 col0\" >34</td>\n",
       "      <td id=\"T_40bc8_row6_col1\" class=\"data row6 col1\" >16</td>\n",
       "      <td id=\"T_40bc8_row6_col2\" class=\"data row6 col2\" >50</td>\n",
       "    </tr>\n",
       "    <tr>\n",
       "      <th id=\"T_40bc8_level0_row7\" class=\"row_heading level0 row7\" >7</th>\n",
       "      <td id=\"T_40bc8_row7_col0\" class=\"data row7 col0\" >20</td>\n",
       "      <td id=\"T_40bc8_row7_col1\" class=\"data row7 col1\" >25</td>\n",
       "      <td id=\"T_40bc8_row7_col2\" class=\"data row7 col2\" >45</td>\n",
       "    </tr>\n",
       "    <tr>\n",
       "      <th id=\"T_40bc8_level0_row8\" class=\"row_heading level0 row8\" >8</th>\n",
       "      <td id=\"T_40bc8_row8_col0\" class=\"data row8 col0\" >16</td>\n",
       "      <td id=\"T_40bc8_row8_col1\" class=\"data row8 col1\" >22</td>\n",
       "      <td id=\"T_40bc8_row8_col2\" class=\"data row8 col2\" >38</td>\n",
       "    </tr>\n",
       "    <tr>\n",
       "      <th id=\"T_40bc8_level0_row9\" class=\"row_heading level0 row9\" >9</th>\n",
       "      <td id=\"T_40bc8_row9_col0\" class=\"data row9 col0\" >10</td>\n",
       "      <td id=\"T_40bc8_row9_col1\" class=\"data row9 col1\" >18</td>\n",
       "      <td id=\"T_40bc8_row9_col2\" class=\"data row9 col2\" >28</td>\n",
       "    </tr>\n",
       "    <tr>\n",
       "      <th id=\"T_40bc8_level0_row10\" class=\"row_heading level0 row10\" >10</th>\n",
       "      <td id=\"T_40bc8_row10_col0\" class=\"data row10 col0\" >14</td>\n",
       "      <td id=\"T_40bc8_row10_col1\" class=\"data row10 col1\" >10</td>\n",
       "      <td id=\"T_40bc8_row10_col2\" class=\"data row10 col2\" >24</td>\n",
       "    </tr>\n",
       "    <tr>\n",
       "      <th id=\"T_40bc8_level0_row11\" class=\"row_heading level0 row11\" >11</th>\n",
       "      <td id=\"T_40bc8_row11_col0\" class=\"data row11 col0\" >4</td>\n",
       "      <td id=\"T_40bc8_row11_col1\" class=\"data row11 col1\" >7</td>\n",
       "      <td id=\"T_40bc8_row11_col2\" class=\"data row11 col2\" >11</td>\n",
       "    </tr>\n",
       "    <tr>\n",
       "      <th id=\"T_40bc8_level0_row12\" class=\"row_heading level0 row12\" >12</th>\n",
       "      <td id=\"T_40bc8_row12_col0\" class=\"data row12 col0\" >5</td>\n",
       "      <td id=\"T_40bc8_row12_col1\" class=\"data row12 col1\" >4</td>\n",
       "      <td id=\"T_40bc8_row12_col2\" class=\"data row12 col2\" >9</td>\n",
       "    </tr>\n",
       "    <tr>\n",
       "      <th id=\"T_40bc8_level0_row13\" class=\"row_heading level0 row13\" >13</th>\n",
       "      <td id=\"T_40bc8_row13_col0\" class=\"data row13 col0\" >5</td>\n",
       "      <td id=\"T_40bc8_row13_col1\" class=\"data row13 col1\" >5</td>\n",
       "      <td id=\"T_40bc8_row13_col2\" class=\"data row13 col2\" >10</td>\n",
       "    </tr>\n",
       "    <tr>\n",
       "      <th id=\"T_40bc8_level0_row14\" class=\"row_heading level0 row14\" >14</th>\n",
       "      <td id=\"T_40bc8_row14_col0\" class=\"data row14 col0\" >0</td>\n",
       "      <td id=\"T_40bc8_row14_col1\" class=\"data row14 col1\" >2</td>\n",
       "      <td id=\"T_40bc8_row14_col2\" class=\"data row14 col2\" >2</td>\n",
       "    </tr>\n",
       "    <tr>\n",
       "      <th id=\"T_40bc8_level0_row15\" class=\"row_heading level0 row15\" >15</th>\n",
       "      <td id=\"T_40bc8_row15_col0\" class=\"data row15 col0\" >0</td>\n",
       "      <td id=\"T_40bc8_row15_col1\" class=\"data row15 col1\" >1</td>\n",
       "      <td id=\"T_40bc8_row15_col2\" class=\"data row15 col2\" >1</td>\n",
       "    </tr>\n",
       "    <tr>\n",
       "      <th id=\"T_40bc8_level0_row16\" class=\"row_heading level0 row16\" >17</th>\n",
       "      <td id=\"T_40bc8_row16_col0\" class=\"data row16 col0\" >0</td>\n",
       "      <td id=\"T_40bc8_row16_col1\" class=\"data row16 col1\" >1</td>\n",
       "      <td id=\"T_40bc8_row16_col2\" class=\"data row16 col2\" >1</td>\n",
       "    </tr>\n",
       "    <tr>\n",
       "      <th id=\"T_40bc8_level0_row17\" class=\"row_heading level0 row17\" >All</th>\n",
       "      <td id=\"T_40bc8_row17_col0\" class=\"data row17 col0\" >500</td>\n",
       "      <td id=\"T_40bc8_row17_col1\" class=\"data row17 col1\" >268</td>\n",
       "      <td id=\"T_40bc8_row17_col2\" class=\"data row17 col2\" >768</td>\n",
       "    </tr>\n",
       "  </tbody>\n",
       "</table>\n"
      ],
      "text/plain": [
       "<pandas.io.formats.style.Styler at 0x235588514d0>"
      ]
     },
     "execution_count": 6,
     "metadata": {},
     "output_type": "execute_result"
    }
   ],
   "source": [
    "pd.crosstab(df['Pregnancies'],df['Outcome'], margins =True).style.background_gradient(cmap='YlOrRd')"
   ]
  },
  {
   "cell_type": "code",
   "execution_count": 7,
   "id": "59500ec1-d87e-476b-aea4-03e92656f822",
   "metadata": {},
   "outputs": [
    {
     "name": "stdout",
     "output_type": "stream",
     "text": [
      "72.0 72.0\n"
     ]
    }
   ],
   "source": [
    "#calculating no. of zeros in BloodPressure column\n",
    "\n",
    "zeros_in_BP = (df['BloodPressure']==0).sum()\n",
    "non_zeros_in_BP = (df['BloodPressure']>0).sum()\n",
    "# print(zeros_in_BP,non_zeros_in_BP)\n",
    "non_zeros_BP_median_1= df[df['BloodPressure']!=0 & (df['Outcome']==1)]['BloodPressure'].median()\n",
    "non_zeros_BP_median_0 = df[df['BloodPressure']!=0 & (df['Outcome']==0)]['BloodPressure'].median()\n",
    "print(non_zeros_BP_median_1, non_zeros_BP_median_0)"
   ]
  },
  {
   "cell_type": "code",
   "execution_count": 8,
   "id": "d755fa9e-671e-4dde-bf65-c550b58f01df",
   "metadata": {},
   "outputs": [
    {
     "name": "stdout",
     "output_type": "stream",
     "text": [
      "0\n"
     ]
    }
   ],
   "source": [
    "df.loc[(df['BloodPressure']==0) & (df['Outcome']==1), 'BloodPressure']=non_zeros_BP_median_1\n",
    "df.loc[(df['BloodPressure']==0) & (df['Outcome']==0), 'BloodPressure']=non_zeros_BP_median_0\n",
    "print((df['BloodPressure']==0).sum())"
   ]
  },
  {
   "cell_type": "code",
   "execution_count": 9,
   "id": "dcc3075c-1521-4ca8-879e-11aab8d57e8b",
   "metadata": {},
   "outputs": [
    {
     "name": "stdout",
     "output_type": "stream",
     "text": [
      "32.0 27.0\n"
     ]
    }
   ],
   "source": [
    "zeros_in_skinThickness = (df['SkinThickness']==0).sum()\n",
    "non_zero_skinThickness_median_1 = df[(df['SkinThickness']!=0) & (df['Outcome']==1)]['SkinThickness'].median()\n",
    "non_zero_skinThickness_median_0 = df[(df['SkinThickness']!=0) & (df['Outcome']==0)]['SkinThickness'].median()\n",
    "print(non_zero_skinThickness_median_1, non_zero_skinThickness_median_0)\n",
    "df.loc[(df[\"SkinThickness\"]==0) & (df['Outcome']==1), 'SkinThickness']=non_zero_skinThickness_median_1\n",
    "df.loc[(df[\"SkinThickness\"]==0) & (df['Outcome']==0), 'SkinThickness']=non_zero_skinThickness_median_0"
   ]
  },
  {
   "cell_type": "code",
   "execution_count": 10,
   "id": "df13bbaf-6d16-489d-94ff-c6ca4d0b2b3d",
   "metadata": {},
   "outputs": [
    {
     "name": "stdout",
     "output_type": "stream",
     "text": [
      "0\n"
     ]
    }
   ],
   "source": [
    "print((df['SkinThickness']==0).sum())"
   ]
  },
  {
   "cell_type": "code",
   "execution_count": 11,
   "id": "b3ec24fa-6a8b-4ab6-9caa-2c65cc7fd172",
   "metadata": {},
   "outputs": [
    {
     "data": {
      "text/plain": [
       "125.0"
      ]
     },
     "execution_count": 11,
     "metadata": {},
     "output_type": "execute_result"
    }
   ],
   "source": [
    "zeros_in_insulin=(df['Insulin']==0).sum()\n",
    "non_zero_insulin_median = df[(df['Insulin']!=0)]['Insulin'].median()\n",
    "non_zero_insulin_median=round(non_zero_insulin_median,0)\n",
    "non_zero_insulin_median"
   ]
  },
  {
   "cell_type": "code",
   "execution_count": 13,
   "id": "c97194a6-3eb5-483a-a130-b96c03cc2f81",
   "metadata": {},
   "outputs": [
    {
     "name": "stdout",
     "output_type": "stream",
     "text": [
      "0\n",
      "   Pregnancies  Glucose  BloodPressure  SkinThickness  Insulin   BMI  \\\n",
      "0            6      148             72             35      125  33.6   \n",
      "1            1       85             66             29      125  26.6   \n",
      "2            8      183             64             32      125  23.3   \n",
      "3            1       89             66             23       94  28.1   \n",
      "4            0      137             40             35      168  43.1   \n",
      "\n",
      "   DiabetesPedigreeFunction  Age  Outcome  \n",
      "0                     0.627   50        1  \n",
      "1                     0.351   31        0  \n",
      "2                     0.672   32        1  \n",
      "3                     0.167   21        0  \n",
      "4                     2.288   33        1  \n"
     ]
    }
   ],
   "source": [
    "df.loc[(df['Insulin']==0) , 'Insulin']=non_zero_insulin_median\n",
    "print((df['Insulin']==0).sum())\n",
    "print(df.head())"
   ]
  },
  {
   "cell_type": "code",
   "execution_count": 14,
   "id": "8839df2f-354e-4051-9c48-6fcd08b69300",
   "metadata": {},
   "outputs": [
    {
     "data": {
      "text/plain": [
       "(140.0, 107.0)"
      ]
     },
     "execution_count": 14,
     "metadata": {},
     "output_type": "execute_result"
    }
   ],
   "source": [
    "zeros_in_Glucose = (df[\"Glucose\"]==0).sum()\n",
    "non_zero_glucose_median_1 = df[(df['Glucose']!=0) & (df['Outcome']==1)][\"Glucose\"].median()\n",
    "non_zero_glucose_median_0 = df[(df['Glucose']!=0) & (df['Outcome']==0)][\"Glucose\"].median()\n",
    "non_zero_glucose_median_1,non_zero_glucose_median_0"
   ]
  },
  {
   "cell_type": "code",
   "execution_count": 15,
   "id": "494d0478-8792-4905-b7f0-d6a481b0187f",
   "metadata": {},
   "outputs": [
    {
     "data": {
      "text/plain": [
       "0"
      ]
     },
     "execution_count": 15,
     "metadata": {},
     "output_type": "execute_result"
    }
   ],
   "source": [
    "df.loc[(df[\"Glucose\"]==0) & (df['Outcome']==1), 'Glucose']=non_zero_glucose_median_1\n",
    "df.loc[(df[\"Glucose\"]==0) & (df['Outcome']==0), 'Glucose']=non_zero_glucose_median_0\n",
    "zeros_in_Glucose = (df[\"Glucose\"]==0).sum()\n",
    "zeros_in_Glucose"
   ]
  },
  {
   "cell_type": "code",
   "execution_count": 16,
   "id": "f416ce3e-feb9-4ab2-90b6-4d7607b86ae7",
   "metadata": {},
   "outputs": [
    {
     "name": "stdout",
     "output_type": "stream",
     "text": [
      "11 198 559\n"
     ]
    }
   ],
   "source": [
    "low_glucose =(df['Glucose'] < 70).sum()\n",
    "normal_glucose=((df['Glucose'] >= 70) & (df['Glucose'] <= 100)).sum()\n",
    "high_glucose=((df['Glucose'] >100)).sum()\n",
    "print(low_glucose, normal_glucose, high_glucose)"
   ]
  },
  {
   "cell_type": "code",
   "execution_count": 17,
   "id": "975ae214-d43c-407d-bf31-947c1ec2d591",
   "metadata": {},
   "outputs": [
    {
     "data": {
      "image/png": "[encoded data removed]",
      "text/plain": [
       "<Figure size 640x480 with 1 Axes>"
      ]
     },
     "metadata": {},
     "output_type": "display_data"
    }
   ],
   "source": [
    "shades = ['brown','tomato','lightsalmon']\n",
    "data={\n",
    "    'High glucose' : high_glucose,\n",
    "    'Normal glucose': normal_glucose,\n",
    "    'Low glucose': low_glucose\n",
    "}\n",
    "\n",
    "plt.pie(data.values(), labels=data.keys(), shadow=True, colors=shades, autopct='%2.1f%%')\n",
    "plt.legend(loc ='center left', bbox_to_anchor=(1.2,0.7))\n",
    "plt.show()"
   ]
  },
  {
   "cell_type": "code",
   "execution_count": 18,
   "id": "6838311a-56a9-4b57-b9b1-28421118231f",
   "metadata": {},
   "outputs": [
    {
     "name": "stdout",
     "output_type": "stream",
     "text": [
      "0 18 250\n"
     ]
    }
   ],
   "source": [
    "dia_low_glucose =((df['Glucose'] < 70) & (df['Outcome']==1)).sum()\n",
    "dia_normal_glucose=((df['Glucose'] > 70) & (df['Glucose'] <= 100) & (df['Outcome']==1)).sum()\n",
    "dia_high_glucose=((df['Glucose'] >100) & (df['Outcome']==1)).sum()\n",
    "print(dia_low_glucose ,dia_normal_glucose,dia_high_glucose)"
   ]
  },
  {
   "cell_type": "code",
   "execution_count": 19,
   "id": "3fc83cb6-3172-4475-afc2-a64395673831",
   "metadata": {},
   "outputs": [
    {
     "name": "stdout",
     "output_type": "stream",
     "text": [
      "309\n"
     ]
    }
   ],
   "source": [
    "not_dia_high_glucose=((df['Glucose'] >100) & (df['Outcome']==0)).sum()\n",
    "print(not_dia_high_glucose)"
   ]
  },
  {
   "cell_type": "code",
   "execution_count": 20,
   "id": "41abc736-bf63-41b1-9d3a-88638643484f",
   "metadata": {},
   "outputs": [
    {
     "name": "stdout",
     "output_type": "stream",
     "text": [
      "606 151 11\n"
     ]
    }
   ],
   "source": [
    "high_insulin=((df['Insulin'] >105)).sum()\n",
    "normal_insulin=((df['Insulin'] >= 35) & (df['Insulin'] <= 105)).sum()\n",
    "low_insulin=((df['Insulin'] <35)).sum()\n",
    "print(high_insulin,normal_insulin, low_insulin)"
   ]
  },
  {
   "cell_type": "code",
   "execution_count": 21,
   "id": "0568090d-4a1d-4938-a0a9-88085a1b67f2",
   "metadata": {},
   "outputs": [
    {
     "data": {
      "image/png": "[encoded data removed]",
      "text/plain": [
       "<Figure size 640x480 with 1 Axes>"
      ]
     },
     "metadata": {},
     "output_type": "display_data"
    }
   ],
   "source": [
    "shades = ['brown','tomato','lightsalmon']\n",
    "data={\n",
    "    'High insulin' : high_insulin,\n",
    "    'Normal insulin': normal_insulin,\n",
    "    'Low insulin': low_insulin\n",
    "}\n",
    "\n",
    "plt.pie(data.values(), labels=data.keys(), shadow=True, colors=shades, autopct='%2.1f%%')\n",
    "plt.legend(loc ='center left', bbox_to_anchor=(1.2,0.7))\n",
    "plt.show()"
   ]
  },
  {
   "cell_type": "code",
   "execution_count": 22,
   "id": "e1016e89-ee17-44e3-bfe7-79486b5bb6f3",
   "metadata": {},
   "outputs": [
    {
     "name": "stdout",
     "output_type": "stream",
     "text": [
      "248 358\n"
     ]
    }
   ],
   "source": [
    "dia_high_insulin=((df['Insulin'] >105) & (df['Outcome']==1)).sum()\n",
    "not_dia_high_insulin=((df['Insulin'] >105) & (df['Outcome']==0)).sum()\n",
    "print(dia_high_insulin, not_dia_high_insulin)"
   ]
  },
  {
   "cell_type": "code",
   "execution_count": 23,
   "id": "7efb362c-cd26-4da4-a4b6-30d4ac3559e6",
   "metadata": {},
   "outputs": [
    {
     "data": {
      "image/png": "[encoded data removed]",
      "text/plain": [
       "<Figure size 640x480 with 1 Axes>"
      ]
     },
     "metadata": {},
     "output_type": "display_data"
    }
   ],
   "source": [
    "shades = ['tomato','lightsalmon']\n",
    "data={\n",
    "    'High_Ins_Diabetic' : dia_high_insulin,\n",
    "    'High_Ins_Not_Diabetic': not_dia_high_insulin\n",
    "}\n",
    "\n",
    "plt.pie(data.values(), labels=data.keys(), shadow=True, colors=shades, autopct='%2.1f%%')\n",
    "plt.legend(loc ='center left', bbox_to_anchor=(1.2,0.7))\n",
    "plt.show()"
   ]
  },
  {
   "cell_type": "code",
   "execution_count": null,
   "id": "f2c5be45-9874-40d3-8491-ca44901d5a32",
   "metadata": {},
   "outputs": [],
   "source": []
  }
 ],
 "metadata": {
  "kernelspec": {
   "display_name": "Python 3 (ipykernel)",
   "language": "python",
   "name": "python3"
  },
  "language_info": {
   "codemirror_mode": {
    "name": "ipython",
    "version": 3
   },
   "file_extension": ".py",
   "mimetype": "text/x-python",
   "name": "python",
   "nbconvert_exporter": "python",
   "pygments_lexer": "ipython3",
   "version": "3.11.7"
  }
 },
 "nbformat": 4,
 "nbformat_minor": 5
}
